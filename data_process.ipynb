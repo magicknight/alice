{
 "cells": [
  {
   "cell_type": "markdown",
   "metadata": {},
   "source": [
    "Reading data\n",
    "---\n",
    "\n",
    "Load the mat datas, turn them into png files\n",
    "\n",
    "record the file name and labels into a csv file\n"
   ]
  },
  {
   "cell_type": "code",
   "execution_count": 197,
   "metadata": {},
   "outputs": [],
   "source": [
    "import glob\n",
    "from scipy.io import loadmat\n",
    "import cv2\n",
    "import scipy.io as scio\n",
    "from PIL import Image\n",
    "import numpy as np\n",
    "import matplotlib.pyplot as plt\n",
    "import os\n",
    "import pandas as pd"
   ]
  },
  {
   "cell_type": "code",
   "execution_count": 198,
   "metadata": {},
   "outputs": [],
   "source": [
    "mat_data_path = 'data/small_data'\n",
    "# mat_data_path = 'data/tiny_data'\n",
    "\n",
    "#mat_label_path = 'data/small_data'\n",
    "image_data_path = '/home/jupyter/data/small_image'\n",
    "#image_label_path = 'data/small_image'\n",
    "min_phi = 0\n",
    "max_phi = 360\n",
    "min_eta = -10\n",
    "max_eta = 10\n",
    "min_delta = -10\n",
    "max_delta = 10\n",
    "\n",
    "mininum_value = 0.77\n",
    "maximum_value = 1.0"
   ]
  },
  {
   "cell_type": "code",
   "execution_count": 199,
   "metadata": {},
   "outputs": [],
   "source": [
    "#list data and labels\n",
    "fileList = glob.glob(os.path.join(mat_data_path, 'data*.mat'))\n",
    "# labelList = glob.glob(os.path.join(mat_data_path, 'labels*.mat'))"
   ]
  },
  {
   "cell_type": "code",
   "execution_count": 200,
   "metadata": {},
   "outputs": [],
   "source": [
    "# Matrix to image, have to multiple by 255\n",
    "def MatrixToImage(data):\n",
    "    # data = (data - mininum_value) / (maximum_value - mininum_value)\n",
    "    data = (data - np.amin(data)) / (np.amax(data) - np.amin(data))\n",
    "    data = data*255\n",
    "    new_im = Image.fromarray(data.astype(np.uint8))\n",
    "    return new_im\n",
    "\n",
    "# Turn 3d label of angles to 1-d label ------ maybe not\n",
    "def toLabel(angles):\n",
    "    label = (round(angles[0]) - min_phi)*(max_eta - min_eta)*(max_delta - min_delta) + (round(angles[1]) - min_eta)*(max_eta - min_eta) + round(angles[2]) - min_delta\n",
    "    return int(label)\n",
    "\n",
    "# turn float to int\n",
    "def toIntLabel(angles):\n",
    "    angles[0] = (angles[0] - min_phi)/(max_phi - min_phi)\n",
    "    angles[1] = (angles[1] - min_eta)/(max_eta - min_eta)\n",
    "    angles[2] = (angles[2] - min_delta)/(max_delta - min_delta)\n",
    "    \n",
    "    # return angles.round().astype(int)\n",
    "    return angles[0], angles[1], angles[2]"
   ]
  },
  {
   "cell_type": "code",
   "execution_count": 201,
   "metadata": {},
   "outputs": [
    {
     "data": {
      "image/png": "[encoded data removed]",
      "text/plain": [
       "<Figure size 432x288 with 1 Axes>"
      ]
     },
     "metadata": {
      "needs_background": "light"
     },
     "output_type": "display_data"
    },
    {
     "data": {
      "image/png": "[encoded data removed]",
      "text/plain": [
       "<Figure size 432x288 with 1 Axes>"
      ]
     },
     "metadata": {
      "needs_background": "light"
     },
     "output_type": "display_data"
    },
    {
     "data": {
      "image/png": "[encoded data removed]",
      "text/plain": [
       "<Figure size 432x288 with 1 Axes>"
      ]
     },
     "metadata": {
      "needs_background": "light"
     },
     "output_type": "display_data"
    },
    {
     "data": {
      "text/html": [
       "<div>\n",
       "<style scoped>\n",
       "    .dataframe tbody tr th:only-of-type {\n",
       "        vertical-align: middle;\n",
       "    }\n",
       "\n",
       "    .dataframe tbody tr th {\n",
       "        vertical-align: top;\n",
       "    }\n",
       "\n",
       "    .dataframe thead th {\n",
       "        text-align: right;\n",
       "    }\n",
       "</style>\n",
       "<table border=\"1\" class=\"dataframe\">\n",
       "  <thead>\n",
       "    <tr style=\"text-align: right;\">\n",
       "      <th></th>\n",
       "      <th>images</th>\n",
       "      <th>phi</th>\n",
       "      <th>eta</th>\n",
       "      <th>delta</th>\n",
       "    </tr>\n",
       "  </thead>\n",
       "  <tbody>\n",
       "    <tr>\n",
       "      <td>0</td>\n",
       "      <td>/home/jupyter/data/small_image/data_2402733.png</td>\n",
       "      <td>0.835859</td>\n",
       "      <td>0.339615</td>\n",
       "      <td>0.304345</td>\n",
       "    </tr>\n",
       "    <tr>\n",
       "      <td>1</td>\n",
       "      <td>/home/jupyter/data/small_image/data_2600733.png</td>\n",
       "      <td>0.904562</td>\n",
       "      <td>0.099381</td>\n",
       "      <td>0.621724</td>\n",
       "    </tr>\n",
       "    <tr>\n",
       "      <td>2</td>\n",
       "      <td>/home/jupyter/data/small_image/data_2317333.png</td>\n",
       "      <td>0.805483</td>\n",
       "      <td>0.654867</td>\n",
       "      <td>0.152955</td>\n",
       "    </tr>\n",
       "    <tr>\n",
       "      <td>3</td>\n",
       "      <td>/home/jupyter/data/small_image/data_2217533.png</td>\n",
       "      <td>0.769877</td>\n",
       "      <td>0.182644</td>\n",
       "      <td>0.448377</td>\n",
       "    </tr>\n",
       "    <tr>\n",
       "      <td>4</td>\n",
       "      <td>/home/jupyter/data/small_image/data_2429633.png</td>\n",
       "      <td>0.843641</td>\n",
       "      <td>0.731735</td>\n",
       "      <td>0.643688</td>\n",
       "    </tr>\n",
       "  </tbody>\n",
       "</table>\n",
       "</div>"
      ],
      "text/plain": [
       "                                            images       phi       eta  \\\n",
       "0  /home/jupyter/data/small_image/data_2402733.png  0.835859  0.339615   \n",
       "1  /home/jupyter/data/small_image/data_2600733.png  0.904562  0.099381   \n",
       "2  /home/jupyter/data/small_image/data_2317333.png  0.805483  0.654867   \n",
       "3  /home/jupyter/data/small_image/data_2217533.png  0.769877  0.182644   \n",
       "4  /home/jupyter/data/small_image/data_2429633.png  0.843641  0.731735   \n",
       "\n",
       "      delta  \n",
       "0  0.304345  \n",
       "1  0.621724  \n",
       "2  0.152955  \n",
       "3  0.448377  \n",
       "4  0.643688  "
      ]
     },
     "execution_count": 201,
     "metadata": {},
     "output_type": "execute_result"
    }
   ],
   "source": [
    "labels = []\n",
    "info_list = []\n",
    "for each_mat_file in fileList:\n",
    "    # print(each_file)\n",
    "    file_name = os.path.basename(each_mat_file)\n",
    "    label_file = each_mat_file.replace('data_', 'labels_')\n",
    "    image_path = os.path.join(image_data_path, file_name.split('.')[0] + '.png')\n",
    "    # print(file_name, label_file)\n",
    "    \n",
    "    array_struct = loadmat(each_mat_file)\n",
    "    label_struct = loadmat(label_file)\n",
    "    # print(array_struct)\n",
    "        \n",
    "    array_data = array_struct['image']\n",
    "    label_data = label_struct['lab'][0]\n",
    "    lables = labels.append(label_data)\n",
    "    # print('minx is ', np.amin(array_data), ', max is ', np.amax(array_data))\n",
    "    # print(array_data)\n",
    "    # print(label_data)\n",
    "    \n",
    "    phi, eta, delta = toIntLabel(label_data)\n",
    "    # print('label is', label)\n",
    "    \n",
    "    info_list.append([image_path, phi, eta, delta])\n",
    "    \n",
    "    image = MatrixToImage(array_data)\n",
    "    image.save(image_path)\n",
    "    \n",
    "images_and_labels = pd.DataFrame(info_list, columns=['images', 'phi', 'eta', 'delta'])\n",
    "    \n",
    "labels = np.array(labels)\n",
    "\n",
    "phi = pd.Series(labels[:,0])\n",
    "fig = phi.plot.hist(grid=True, bins=20, rwidth=0.9, color='#607c8e').get_figure()\n",
    "plt.title('Distribution for $\\phi$, with ' + str(labels[:,0].shape[0]) + ' data points')\n",
    "plt.xlabel('$\\Phi$')\n",
    "plt.ylabel('Counts')\n",
    "plt.grid(axis='y', alpha=0.75)\n",
    "plt.grid(axis='y', alpha=0.75)\n",
    "fig.savefig('figures/phi.png')\n",
    "plt.show()\n",
    "\n",
    "eta = pd.Series(labels[:,1])\n",
    "fig =  eta.plot.hist(grid=True, bins=20, rwidth=0.9, color='#607c8e').get_figure()\n",
    "plt.title('Distribution for $\\eta$, with ' + str(labels[:,0].shape[0]) + ' data points')\n",
    "plt.xlabel('$\\eta$')\n",
    "plt.ylabel('Counts')\n",
    "plt.grid(axis='y', alpha=0.75)\n",
    "plt.grid(axis='y', alpha=0.75)\n",
    "fig.savefig('figures/eta.png')\n",
    "plt.show()\n",
    "\n",
    "delta = pd.Series(labels[:,2])\n",
    "fig = delta.plot.hist(grid=True, bins=20, rwidth=0.9, color='#607c8e').get_figure()\n",
    "plt.title('Distribution for $\\delta$, with ' + str(labels[:,0].shape[0]) + ' data points')\n",
    "plt.xlabel('$\\delta$')\n",
    "plt.ylabel('Counts')\n",
    "plt.grid(axis='y', alpha=0.75)\n",
    "plt.grid(axis='y', alpha=0.75)\n",
    "fig.savefig('figures/delta.png')\n",
    "plt.show()\n",
    "\n",
    "images_and_labels.head()"
   ]
  },
  {
   "cell_type": "code",
   "execution_count": 202,
   "metadata": {},
   "outputs": [],
   "source": [
    "images_and_labels.to_csv('data_and_labels.csv', index=False)"
   ]
  },
  {
   "cell_type": "code",
   "execution_count": null,
   "metadata": {},
   "outputs": [],
   "source": []
  },
  {
   "cell_type": "code",
   "execution_count": null,
   "metadata": {},
   "outputs": [],
   "source": []
  }
 ],
 "metadata": {
  "kernelspec": {
   "display_name": "Python 3",
   "language": "python",
   "name": "python3"
  },
  "language_info": {
   "codemirror_mode": {
    "name": "ipython",
    "version": 3
   },
   "file_extension": ".py",
   "mimetype": "text/x-python",
   "name": "python",
   "nbconvert_exporter": "python",
   "pygments_lexer": "ipython3",
   "version": "3.5.3"
  }
 },
 "nbformat": 4,
 "nbformat_minor": 4
}
