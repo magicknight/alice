{
 "cells": [
  {
   "cell_type": "markdown",
   "metadata": {},
   "source": [
    "Reading data\n",
    "---\n",
    "\n",
    "Load the mat datas, turn them into png files\n",
    "\n",
    "record the file name and labels into a csv file\n"
   ]
  },
  {
   "cell_type": "code",
   "execution_count": 1,
   "metadata": {},
   "outputs": [],
   "source": [
    "import glob\n",
    "from scipy.io import loadmat\n",
    "import cv2\n",
    "import scipy.io as scio\n",
    "from PIL import Image\n",
    "import numpy as np\n",
    "import matplotlib.pyplot as plt\n",
    "import os\n",
    "import pandas as pd"
   ]
  },
  {
   "cell_type": "code",
   "execution_count": 2,
   "metadata": {},
   "outputs": [],
   "source": [
    "# mat_data_path = 'data/small_data'\n",
    "# mat_data_path = 'data/tiny_data'\n",
    "mat_data_path = 'data/data/data-lab-volvo-200'\n",
    "\n",
    "#mat_label_path = 'data/small_data'\n",
    "image_data_path = '/home/jupyter/data/image'\n",
    "#image_data_path = '/home/jupyter/data/small_image'\n",
    "#image_label_path = 'data/small_image'\n",
    "min_phi = 0\n",
    "max_phi = 360\n",
    "min_eta = -10\n",
    "max_eta = 10\n",
    "min_delta = -10\n",
    "max_delta = 10\n",
    "\n",
    "mininum_value = 0.77\n",
    "maximum_value = 1.0"
   ]
  },
  {
   "cell_type": "code",
   "execution_count": 3,
   "metadata": {},
   "outputs": [],
   "source": [
    "#list data and labels\n",
    "fileList = glob.glob(os.path.join(mat_data_path, 'data*.mat'))\n",
    "# labelList = glob.glob(os.path.join(mat_data_path, 'labels*.mat'))"
   ]
  },
  {
   "cell_type": "code",
   "execution_count": 4,
   "metadata": {},
   "outputs": [],
   "source": [
    "# Matrix to image, have to multiple by 255\n",
    "def MatrixToImage(data):\n",
    "    # data = (data - mininum_value) / (maximum_value - mininum_value)\n",
    "    data = (data - np.amin(data)) / (np.amax(data) - np.amin(data))\n",
    "    data = data*255\n",
    "    new_im = Image.fromarray(data.astype(np.uint8))\n",
    "    return new_im\n",
    "\n",
    "# Turn 3d label of angles to 1-d label ------ maybe not\n",
    "def toLabel(angles):\n",
    "    label = (round(angles[0]) - min_phi)*(max_eta - min_eta)*(max_delta - min_delta) + (round(angles[1]) - min_eta)*(max_eta - min_eta) + round(angles[2]) - min_delta\n",
    "    return int(label)\n",
    "\n",
    "# turn angles to 0 - 1.0\n",
    "def toIntLabel(angles):\n",
    "    angles[0] = (angles[0] - min_phi)/(max_phi - min_phi)\n",
    "    angles[1] = (angles[1] - min_eta)/(max_eta - min_eta)\n",
    "    angles[2] = (angles[2] - min_delta)/(max_delta - min_delta)\n",
    "    \n",
    "    # return angles.round().astype(int)\n",
    "    return angles[0], angles[1], angles[2]"
   ]
  },
  {
   "cell_type": "code",
   "execution_count": null,
   "metadata": {},
   "outputs": [],
   "source": [
    "labels = []\n",
    "info_list = []\n",
    "for each_mat_file in fileList:\n",
    "    # print(each_file)\n",
    "    file_name = os.path.basename(each_mat_file)\n",
    "    label_file = each_mat_file.replace('data_', 'labels_')\n",
    "    image_path = os.path.join(image_data_path, file_name.split('.')[0] + '.png')\n",
    "    # print(file_name, label_file)\n",
    "    \n",
    "    array_struct = loadmat(each_mat_file)\n",
    "    label_struct = loadmat(label_file)\n",
    "    # print(array_struct)\n",
    "        \n",
    "    array_data = array_struct['image']\n",
    "    label_data = label_struct['lab'][0]\n",
    "    lables = labels.append(label_data)\n",
    "    # print('minx is ', np.amin(array_data), ', max is ', np.amax(array_data))\n",
    "    # print(array_data)\n",
    "    # print(label_data)\n",
    "    \n",
    "    phi, eta, delta = toIntLabel(label_data)\n",
    "    # print('label is', label)\n",
    "    \n",
    "    info_list.append([image_path, phi, eta, delta])\n",
    "    \n",
    "    image = MatrixToImage(array_data)\n",
    "    image.save(image_path)\n",
    "    \n",
    "images_and_labels = pd.DataFrame(info_list, columns=['images', 'phi', 'eta', 'delta'])\n",
    "    \n",
    "labels = np.array(labels)\n",
    "\n",
    "phi = pd.Series(labels[:,0])\n",
    "fig = phi.plot.hist(grid=True, bins=20, rwidth=0.9, color='#607c8e').get_figure()\n",
    "plt.title('Distribution for $\\phi$, with ' + str(labels[:,0].shape[0]) + ' data points')\n",
    "plt.xlabel('$\\Phi$')\n",
    "plt.ylabel('Counts')\n",
    "plt.grid(axis='y', alpha=0.75)\n",
    "plt.grid(axis='y', alpha=0.75)\n",
    "fig.savefig('figures/phi.png')\n",
    "plt.show()\n",
    "\n",
    "eta = pd.Series(labels[:,1])\n",
    "fig =  eta.plot.hist(grid=True, bins=20, rwidth=0.9, color='#607c8e').get_figure()\n",
    "plt.title('Distribution for $\\eta$, with ' + str(labels[:,0].shape[0]) + ' data points')\n",
    "plt.xlabel('$\\eta$')\n",
    "plt.ylabel('Counts')\n",
    "plt.grid(axis='y', alpha=0.75)\n",
    "plt.grid(axis='y', alpha=0.75)\n",
    "fig.savefig('figures/eta.png')\n",
    "plt.show()\n",
    "\n",
    "delta = pd.Series(labels[:,2])\n",
    "fig = delta.plot.hist(grid=True, bins=20, rwidth=0.9, color='#607c8e').get_figure()\n",
    "plt.title('Distribution for $\\delta$, with ' + str(labels[:,0].shape[0]) + ' data points')\n",
    "plt.xlabel('$\\delta$')\n",
    "plt.ylabel('Counts')\n",
    "plt.grid(axis='y', alpha=0.75)\n",
    "plt.grid(axis='y', alpha=0.75)\n",
    "fig.savefig('figures/delta.png')\n",
    "plt.show()\n",
    "\n",
    "images_and_labels.head()"
   ]
  },
  {
   "cell_type": "code",
   "execution_count": null,
   "metadata": {},
   "outputs": [],
   "source": [
    "images_and_labels.to_csv('data_and_labels.csv', index=False)"
   ]
  },
  {
   "cell_type": "code",
   "execution_count": null,
   "metadata": {},
   "outputs": [],
   "source": []
  },
  {
   "cell_type": "code",
   "execution_count": null,
   "metadata": {},
   "outputs": [],
   "source": []
  }
 ],
 "metadata": {
  "kernelspec": {
   "display_name": "Python 3",
   "language": "python",
   "name": "python3"
  },
  "language_info": {
   "codemirror_mode": {
    "name": "ipython",
    "version": 3
   },
   "file_extension": ".py",
   "mimetype": "text/x-python",
   "name": "python",
   "nbconvert_exporter": "python",
   "pygments_lexer": "ipython3",
   "version": "3.5.3"
  }
 },
 "nbformat": 4,
 "nbformat_minor": 4
}
